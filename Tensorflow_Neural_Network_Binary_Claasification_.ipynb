{
  "nbformat": 4,
  "nbformat_minor": 0,
  "metadata": {
    "colab": {
      "name": "Tensorflow_Neural_Network- Binary Claasification_.ipynb",
      "provenance": [],
      "collapsed_sections": []
    },
    "kernelspec": {
      "name": "python3",
      "display_name": "Python 3"
    },
    "language_info": {
      "name": "python"
    }
  },
  "cells": [
    {
      "cell_type": "code",
      "execution_count": 1,
      "metadata": {
        "id": "r23fu14BNUaA"
      },
      "outputs": [],
      "source": [
        "import tensorflow as tf\n",
        "from sklearn.datasets import load_breast_cancer\n",
        "from tensorflow.keras import Sequential\n",
        "from tensorflow.keras.layers import Dense"
      ]
    },
    {
      "cell_type": "code",
      "source": [
        "cancer = load_breast_cancer()\n",
        "X = cancer.data\n",
        "y = cancer.target\n",
        "\n",
        "from sklearn.model_selection import train_test_split\n",
        "X_train,X_test,y_train,y_test = train_test_split(X,y,test_size=0.20, random_state=42)"
      ],
      "metadata": {
        "id": "EkDz5PtBNuNg"
      },
      "execution_count": 2,
      "outputs": []
    },
    {
      "cell_type": "code",
      "source": [
        "X_train.shape"
      ],
      "metadata": {
        "colab": {
          "base_uri": "https://localhost:8080/"
        },
        "id": "y61YBVd5OEHR",
        "outputId": "55129abe-21bb-4a46-f554-ca7e550e9f24"
      },
      "execution_count": 3,
      "outputs": [
        {
          "output_type": "execute_result",
          "data": {
            "text/plain": [
              "(455, 30)"
            ]
          },
          "metadata": {},
          "execution_count": 3
        }
      ]
    },
    {
      "cell_type": "code",
      "source": [
        "model = Sequential()\n",
        "model.add(Dense(units=20, activation='relu', input_shape=(30,)))\n",
        "model.add(Dense(units=15, activation='relu'))\n",
        "model.add(Dense(units=10, activation='relu'))\n",
        "model.add(Dense(units=1,activation='sigmoid')) # Binary Classification\n",
        "model.summary()"
      ],
      "metadata": {
        "colab": {
          "base_uri": "https://localhost:8080/"
        },
        "id": "AFe0jDy1OIGu",
        "outputId": "ad9d29f4-ff88-4887-95dd-da58734c780a"
      },
      "execution_count": 4,
      "outputs": [
        {
          "output_type": "stream",
          "name": "stdout",
          "text": [
            "Model: \"sequential\"\n",
            "_________________________________________________________________\n",
            " Layer (type)                Output Shape              Param #   \n",
            "=================================================================\n",
            " dense (Dense)               (None, 20)                620       \n",
            "                                                                 \n",
            " dense_1 (Dense)             (None, 15)                315       \n",
            "                                                                 \n",
            " dense_2 (Dense)             (None, 10)                160       \n",
            "                                                                 \n",
            " dense_3 (Dense)             (None, 1)                 11        \n",
            "                                                                 \n",
            "=================================================================\n",
            "Total params: 1,106\n",
            "Trainable params: 1,106\n",
            "Non-trainable params: 0\n",
            "_________________________________________________________________\n"
          ]
        }
      ]
    },
    {
      "cell_type": "code",
      "source": [
        "model.compile(optimizer='Adam',\n",
        "              loss = \"binary_crossentropy\",\n",
        "              metrics=['accuracy'])"
      ],
      "metadata": {
        "id": "uGbLNJz0OtjF"
      },
      "execution_count": 5,
      "outputs": []
    },
    {
      "cell_type": "code",
      "source": [
        "model.fit(X_train,y_train, epochs=30, batch_size=32)"
      ],
      "metadata": {
        "colab": {
          "base_uri": "https://localhost:8080/"
        },
        "id": "E6K4qW1rPF__",
        "outputId": "8c33079a-95aa-4a89-a25d-8ef8e14c377e"
      },
      "execution_count": 6,
      "outputs": [
        {
          "output_type": "stream",
          "name": "stdout",
          "text": [
            "Epoch 1/30\n",
            "15/15 [==============================] - 1s 2ms/step - loss: 1.9393 - accuracy: 0.6945\n",
            "Epoch 2/30\n",
            "15/15 [==============================] - 0s 2ms/step - loss: 0.7826 - accuracy: 0.7451\n",
            "Epoch 3/30\n",
            "15/15 [==============================] - 0s 2ms/step - loss: 0.4685 - accuracy: 0.8352\n",
            "Epoch 4/30\n",
            "15/15 [==============================] - 0s 2ms/step - loss: 0.3922 - accuracy: 0.8813\n",
            "Epoch 5/30\n",
            "15/15 [==============================] - 0s 2ms/step - loss: 0.2726 - accuracy: 0.9077\n",
            "Epoch 6/30\n",
            "15/15 [==============================] - 0s 2ms/step - loss: 0.2858 - accuracy: 0.9077\n",
            "Epoch 7/30\n",
            "15/15 [==============================] - 0s 3ms/step - loss: 0.2644 - accuracy: 0.9187\n",
            "Epoch 8/30\n",
            "15/15 [==============================] - 0s 2ms/step - loss: 0.2687 - accuracy: 0.9143\n",
            "Epoch 9/30\n",
            "15/15 [==============================] - 0s 2ms/step - loss: 0.2820 - accuracy: 0.8901\n",
            "Epoch 10/30\n",
            "15/15 [==============================] - 0s 2ms/step - loss: 0.2308 - accuracy: 0.9099\n",
            "Epoch 11/30\n",
            "15/15 [==============================] - 0s 2ms/step - loss: 0.2324 - accuracy: 0.9143\n",
            "Epoch 12/30\n",
            "15/15 [==============================] - 0s 2ms/step - loss: 0.2453 - accuracy: 0.8945\n",
            "Epoch 13/30\n",
            "15/15 [==============================] - 0s 2ms/step - loss: 0.2121 - accuracy: 0.9253\n",
            "Epoch 14/30\n",
            "15/15 [==============================] - 0s 2ms/step - loss: 0.1965 - accuracy: 0.9209\n",
            "Epoch 15/30\n",
            "15/15 [==============================] - 0s 3ms/step - loss: 0.1992 - accuracy: 0.9319\n",
            "Epoch 16/30\n",
            "15/15 [==============================] - 0s 2ms/step - loss: 0.1960 - accuracy: 0.9253\n",
            "Epoch 17/30\n",
            "15/15 [==============================] - 0s 2ms/step - loss: 0.2024 - accuracy: 0.9297\n",
            "Epoch 18/30\n",
            "15/15 [==============================] - 0s 2ms/step - loss: 0.2250 - accuracy: 0.9055\n",
            "Epoch 19/30\n",
            "15/15 [==============================] - 0s 2ms/step - loss: 0.2599 - accuracy: 0.8923\n",
            "Epoch 20/30\n",
            "15/15 [==============================] - 0s 2ms/step - loss: 0.2010 - accuracy: 0.9275\n",
            "Epoch 21/30\n",
            "15/15 [==============================] - 0s 2ms/step - loss: 0.1956 - accuracy: 0.9231\n",
            "Epoch 22/30\n",
            "15/15 [==============================] - 0s 2ms/step - loss: 0.1921 - accuracy: 0.9297\n",
            "Epoch 23/30\n",
            "15/15 [==============================] - 0s 2ms/step - loss: 0.2175 - accuracy: 0.9077\n",
            "Epoch 24/30\n",
            "15/15 [==============================] - 0s 2ms/step - loss: 0.2232 - accuracy: 0.9187\n",
            "Epoch 25/30\n",
            "15/15 [==============================] - 0s 2ms/step - loss: 0.2219 - accuracy: 0.9297\n",
            "Epoch 26/30\n",
            "15/15 [==============================] - 0s 2ms/step - loss: 0.2106 - accuracy: 0.9187\n",
            "Epoch 27/30\n",
            "15/15 [==============================] - 0s 2ms/step - loss: 0.2775 - accuracy: 0.9077\n",
            "Epoch 28/30\n",
            "15/15 [==============================] - 0s 2ms/step - loss: 0.1984 - accuracy: 0.9319\n",
            "Epoch 29/30\n",
            "15/15 [==============================] - 0s 2ms/step - loss: 0.2027 - accuracy: 0.9275\n",
            "Epoch 30/30\n",
            "15/15 [==============================] - 0s 2ms/step - loss: 0.1950 - accuracy: 0.9275\n"
          ]
        },
        {
          "output_type": "execute_result",
          "data": {
            "text/plain": [
              "<keras.callbacks.History at 0x7f31adae1990>"
            ]
          },
          "metadata": {},
          "execution_count": 6
        }
      ]
    },
    {
      "cell_type": "code",
      "source": [
        "model.predict(X_test) # in range of 0 to 1"
      ],
      "metadata": {
        "id": "I0Ih5njTPgqy",
        "colab": {
          "base_uri": "https://localhost:8080/"
        },
        "outputId": "f03e66db-9261-4dba-ce8f-f6f0dd2a6c79"
      },
      "execution_count": 7,
      "outputs": [
        {
          "output_type": "execute_result",
          "data": {
            "text/plain": [
              "array([[6.35925949e-01],\n",
              "       [8.38326457e-12],\n",
              "       [1.75178051e-04],\n",
              "       [9.88336325e-01],\n",
              "       [9.87545252e-01],\n",
              "       [2.85180740e-05],\n",
              "       [1.82867410e-09],\n",
              "       [2.98157752e-01],\n",
              "       [9.84944463e-01],\n",
              "       [9.66286302e-01],\n",
              "       [9.54272747e-01],\n",
              "       [9.71305370e-03],\n",
              "       [9.34337437e-01],\n",
              "       [6.29935741e-01],\n",
              "       [9.77657199e-01],\n",
              "       [1.08413726e-01],\n",
              "       [9.49903905e-01],\n",
              "       [9.87190366e-01],\n",
              "       [9.10072446e-01],\n",
              "       [8.69099240e-05],\n",
              "       [7.24422097e-01],\n",
              "       [9.81444001e-01],\n",
              "       [1.39667222e-07],\n",
              "       [9.83390093e-01],\n",
              "       [9.72541392e-01],\n",
              "       [9.73650336e-01],\n",
              "       [9.87272859e-01],\n",
              "       [9.74357963e-01],\n",
              "       [9.79365289e-01],\n",
              "       [1.56855431e-13],\n",
              "       [9.82710540e-01],\n",
              "       [9.85477567e-01],\n",
              "       [8.58581841e-01],\n",
              "       [8.59283805e-01],\n",
              "       [9.90529537e-01],\n",
              "       [9.85471845e-01],\n",
              "       [1.83112323e-02],\n",
              "       [9.74866092e-01],\n",
              "       [9.55013093e-07],\n",
              "       [9.21684861e-01],\n",
              "       [9.86587763e-01],\n",
              "       [5.29488921e-03],\n",
              "       [9.92092073e-01],\n",
              "       [9.78637636e-01],\n",
              "       [9.62561250e-01],\n",
              "       [9.69980240e-01],\n",
              "       [9.79195178e-01],\n",
              "       [9.31568265e-01],\n",
              "       [9.65214252e-01],\n",
              "       [9.81973469e-01],\n",
              "       [7.10369432e-06],\n",
              "       [1.05351468e-07],\n",
              "       [9.81029153e-01],\n",
              "       [9.46550846e-01],\n",
              "       [9.91783500e-01],\n",
              "       [9.60234642e-01],\n",
              "       [9.88100410e-01],\n",
              "       [3.10128527e-08],\n",
              "       [9.33115840e-01],\n",
              "       [9.91999507e-01],\n",
              "       [9.81458664e-01],\n",
              "       [7.23240228e-05],\n",
              "       [3.09956476e-06],\n",
              "       [9.20427859e-01],\n",
              "       [9.77320910e-01],\n",
              "       [9.68685031e-01],\n",
              "       [9.35035018e-07],\n",
              "       [9.33578610e-03],\n",
              "       [9.79079664e-01],\n",
              "       [9.85153437e-01],\n",
              "       [5.98218858e-01],\n",
              "       [9.12395137e-08],\n",
              "       [9.62483644e-01],\n",
              "       [8.59314203e-01],\n",
              "       [7.74569988e-01],\n",
              "       [9.83728468e-01],\n",
              "       [9.49458003e-01],\n",
              "       [7.59390771e-01],\n",
              "       [9.86052155e-01],\n",
              "       [9.85569239e-01],\n",
              "       [1.17073059e-02],\n",
              "       [9.78699744e-01],\n",
              "       [9.27186131e-01],\n",
              "       [1.59091755e-07],\n",
              "       [3.75804603e-02],\n",
              "       [8.66237879e-01],\n",
              "       [9.55138206e-02],\n",
              "       [9.70031178e-05],\n",
              "       [9.85270679e-01],\n",
              "       [9.81704712e-01],\n",
              "       [9.67479706e-01],\n",
              "       [9.50363040e-01],\n",
              "       [9.59403932e-01],\n",
              "       [9.45920587e-01],\n",
              "       [9.80845809e-01],\n",
              "       [9.78754163e-01],\n",
              "       [1.41620636e-04],\n",
              "       [1.21625973e-10],\n",
              "       [9.90754426e-01],\n",
              "       [1.62324607e-02],\n",
              "       [3.14848222e-07],\n",
              "       [9.92623925e-01],\n",
              "       [1.97989491e-09],\n",
              "       [2.16707587e-02],\n",
              "       [7.18498111e-01],\n",
              "       [9.71177638e-01],\n",
              "       [9.79584575e-01],\n",
              "       [2.05883277e-19],\n",
              "       [9.73442614e-01],\n",
              "       [9.22058761e-01],\n",
              "       [1.96844339e-04],\n",
              "       [9.88134265e-01],\n",
              "       [8.98116052e-01],\n",
              "       [0.00000000e+00]], dtype=float32)"
            ]
          },
          "metadata": {},
          "execution_count": 7
        }
      ]
    },
    {
      "cell_type": "code",
      "source": [
        "(model.predict(X_test) >0.5).astype(\"int\")"
      ],
      "metadata": {
        "id": "ehm5S4rEPL6u",
        "colab": {
          "base_uri": "https://localhost:8080/"
        },
        "outputId": "89d71235-ae11-4213-cded-9f293450a462"
      },
      "execution_count": 8,
      "outputs": [
        {
          "output_type": "execute_result",
          "data": {
            "text/plain": [
              "array([[1],\n",
              "       [0],\n",
              "       [0],\n",
              "       [1],\n",
              "       [1],\n",
              "       [0],\n",
              "       [0],\n",
              "       [0],\n",
              "       [1],\n",
              "       [1],\n",
              "       [1],\n",
              "       [0],\n",
              "       [1],\n",
              "       [1],\n",
              "       [1],\n",
              "       [0],\n",
              "       [1],\n",
              "       [1],\n",
              "       [1],\n",
              "       [0],\n",
              "       [1],\n",
              "       [1],\n",
              "       [0],\n",
              "       [1],\n",
              "       [1],\n",
              "       [1],\n",
              "       [1],\n",
              "       [1],\n",
              "       [1],\n",
              "       [0],\n",
              "       [1],\n",
              "       [1],\n",
              "       [1],\n",
              "       [1],\n",
              "       [1],\n",
              "       [1],\n",
              "       [0],\n",
              "       [1],\n",
              "       [0],\n",
              "       [1],\n",
              "       [1],\n",
              "       [0],\n",
              "       [1],\n",
              "       [1],\n",
              "       [1],\n",
              "       [1],\n",
              "       [1],\n",
              "       [1],\n",
              "       [1],\n",
              "       [1],\n",
              "       [0],\n",
              "       [0],\n",
              "       [1],\n",
              "       [1],\n",
              "       [1],\n",
              "       [1],\n",
              "       [1],\n",
              "       [0],\n",
              "       [1],\n",
              "       [1],\n",
              "       [1],\n",
              "       [0],\n",
              "       [0],\n",
              "       [1],\n",
              "       [1],\n",
              "       [1],\n",
              "       [0],\n",
              "       [0],\n",
              "       [1],\n",
              "       [1],\n",
              "       [1],\n",
              "       [0],\n",
              "       [1],\n",
              "       [1],\n",
              "       [1],\n",
              "       [1],\n",
              "       [1],\n",
              "       [1],\n",
              "       [1],\n",
              "       [1],\n",
              "       [0],\n",
              "       [1],\n",
              "       [1],\n",
              "       [0],\n",
              "       [0],\n",
              "       [1],\n",
              "       [0],\n",
              "       [0],\n",
              "       [1],\n",
              "       [1],\n",
              "       [1],\n",
              "       [1],\n",
              "       [1],\n",
              "       [1],\n",
              "       [1],\n",
              "       [1],\n",
              "       [0],\n",
              "       [0],\n",
              "       [1],\n",
              "       [0],\n",
              "       [0],\n",
              "       [1],\n",
              "       [0],\n",
              "       [0],\n",
              "       [1],\n",
              "       [1],\n",
              "       [1],\n",
              "       [0],\n",
              "       [1],\n",
              "       [1],\n",
              "       [0],\n",
              "       [1],\n",
              "       [1],\n",
              "       [0]])"
            ]
          },
          "metadata": {},
          "execution_count": 8
        }
      ]
    },
    {
      "cell_type": "code",
      "source": [
        "model.evaluate(X_test,y_test)"
      ],
      "metadata": {
        "colab": {
          "base_uri": "https://localhost:8080/"
        },
        "id": "kyyDILShPYHb",
        "outputId": "576efa16-1eaf-4059-ded9-45317a125e89"
      },
      "execution_count": 9,
      "outputs": [
        {
          "output_type": "stream",
          "name": "stdout",
          "text": [
            "4/4 [==============================] - 0s 3ms/step - loss: 0.1574 - accuracy: 0.9298\n"
          ]
        },
        {
          "output_type": "execute_result",
          "data": {
            "text/plain": [
              "[0.157384991645813, 0.9298245906829834]"
            ]
          },
          "metadata": {},
          "execution_count": 9
        }
      ]
    }
  ]
}